{
  "nbformat": 4,
  "nbformat_minor": 0,
  "metadata": {
    "colab": {
      "provenance": [],
      "authorship_tag": "ABX9TyPJczRywXGDFWyxsFMds4Eg",
      "include_colab_link": true
    },
    "kernelspec": {
      "name": "python3",
      "display_name": "Python 3"
    },
    "language_info": {
      "name": "python"
    }
  },
  "cells": [
    {
      "cell_type": "markdown",
      "metadata": {
        "id": "view-in-github",
        "colab_type": "text"
      },
      "source": [
        "<a href=\"https://colab.research.google.com/github/7ired/energyprices/blob/main/energy_prices.ipynb\" target=\"_parent\"><img src=\"https://colab.research.google.com/assets/colab-badge.svg\" alt=\"Open In Colab\"/></a>"
      ]
    },
    {
      "cell_type": "code",
      "execution_count": 8,
      "metadata": {
        "id": "yHbU03Io5qiN"
      },
      "outputs": [],
      "source": [
        "import pandas as pd\n",
        "import calendar"
      ]
    },
    {
      "cell_type": "code",
      "source": [
        "# wzor https://www.pse.pl/getcsv/-/export/csv/PL_CENY_RYN_EN/data_od/20180101/data_do/2018020\n",
        "def pobierz_dane(od, do):\n",
        "    url = f'https://www.pse.pl/getcsv/-/export/csv/PL_CENY_RYN_EN/data_od/{od}/data_do/{do}'\n",
        "    df = pd.read_csv(url, delimiter=';')\n",
        "    df = df.set_index(\"Data\")\n",
        "    df.index = pd.to_datetime(df.index, format='%Y%m%d')\n",
        "    df['RCE'] = df['RCE'].apply(lambda x: x.replace(',', '.'))\n",
        "    df['RCE'] = df['RCE'].apply(lambda x: float(x))\n",
        "    df = df.groupby(['Data'])['RCE'].mean()\n",
        "    df = df.to_frame()\n",
        "    return df"
      ],
      "metadata": {
        "id": "DmCAfBu35t1C"
      },
      "execution_count": 18,
      "outputs": []
    },
    {
      "cell_type": "code",
      "source": [
        "def date_string(year, month):\n",
        "    if len(str(month)) == 1:\n",
        "        return f'{year}0{month}01', f'{year}0{month}{calendar.monthrange(year, month)[1]}'\n",
        "    else:\n",
        "        return f'{year}{month}01', f'{year}{month}{calendar.monthrange(year, month)[1]}'"
      ],
      "metadata": {
        "id": "qKpnZQiF6oRh"
      },
      "execution_count": 6,
      "outputs": []
    }
  ]
}