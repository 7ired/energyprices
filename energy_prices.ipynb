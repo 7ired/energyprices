{
  "nbformat": 4,
  "nbformat_minor": 0,
  "metadata": {
    "colab": {
      "provenance": [],
      "authorship_tag": "ABX9TyOhdzNf8TeqTkMVmT/huHAi",
      "include_colab_link": true
    },
    "kernelspec": {
      "name": "python3",
      "display_name": "Python 3"
    },
    "language_info": {
      "name": "python"
    }
  },
  "cells": [
    {
      "cell_type": "markdown",
      "metadata": {
        "id": "view-in-github",
        "colab_type": "text"
      },
      "source": [
        "<a href=\"https://colab.research.google.com/github/7ired/energyprices/blob/main/energy_prices.ipynb\" target=\"_parent\"><img src=\"https://colab.research.google.com/assets/colab-badge.svg\" alt=\"Open In Colab\"/></a>"
      ]
    },
    {
      "cell_type": "code",
      "execution_count": 67,
      "metadata": {
        "id": "yHbU03Io5qiN"
      },
      "outputs": [],
      "source": [
        "import pandas as pd\n",
        "import calendar\n",
        "import time\n",
        "import re"
      ]
    },
    {
      "cell_type": "code",
      "source": [
        "# wzor https://www.pse.pl/getcsv/-/export/csv/PL_CENY_RYN_EN/data_od/20180101/data_do/2018020\n",
        "def pobierz_dane(od, do):\n",
        "    url = f'https://www.pse.pl/getcsv/-/export/csv/PL_CENY_RYN_EN/data_od/{od}/data_do/{do}'\n",
        "    df = pd.read_csv(url, delimiter=';', encoding='latin1')\n",
        "    df = df.set_index(\"Data\")\n",
        "    df.index = pd.to_datetime(df.index, format='%Y%m%d')\n",
        "    df['RCE'] = df['RCE'].apply(lambda x: re.sub(r'\\s+', '', x).replace(',', '.'))\n",
        "    df['RCE'] = pd.to_numeric(df['RCE'], errors='coerce')\n",
        "    df = df.groupby(['Data'])['RCE'].mean()\n",
        "    df = df.to_frame()\n",
        "    return df"
      ],
      "metadata": {
        "id": "u5MfVCr-Cswl"
      },
      "execution_count": 68,
      "outputs": []
    },
    {
      "cell_type": "code",
      "source": [
        "def date_string(year, month):\n",
        "    if len(str(month)) == 1:\n",
        "        return f'{year}0{month}01', f'{year}0{month}{calendar.monthrange(year, month)[1]}'\n",
        "    else:\n",
        "        return f'{year}{month}01', f'{year}{month}{calendar.monthrange(year, month)[1]}'"
      ],
      "metadata": {
        "id": "qKpnZQiF6oRh"
      },
      "execution_count": 4,
      "outputs": []
    },
    {
      "cell_type": "code",
      "source": [
        "# initialize goal dates\n",
        "start_year = 2023\n",
        "start_month = 6\n",
        "end_year = 2023\n",
        "end_month = 7"
      ],
      "metadata": {
        "id": "uuDMNBiwZahx"
      },
      "execution_count": 79,
      "outputs": []
    },
    {
      "cell_type": "code",
      "source": [
        "# a dictionary to store dataframes\n",
        "dataframes = {}"
      ],
      "metadata": {
        "id": "V3hLrZv7jTQ_"
      },
      "execution_count": 12,
      "outputs": []
    },
    {
      "cell_type": "code",
      "source": [
        "# set a sleep timer to avoid too many requests error\n",
        "delay = 5"
      ],
      "metadata": {
        "id": "iLQiCHGdnsWC"
      },
      "execution_count": 8,
      "outputs": []
    },
    {
      "cell_type": "code",
      "source": [
        "# get dataframes for each month\n",
        "for year in range(start_year, end_year + 1):\n",
        "    for month in range(1, 13):\n",
        "        if (year == start_year and month < start_month) or (year == end_year and month > end_month):\n",
        "            continue\n",
        "        od, do = date_string(year, month)\n",
        "        df = pobierz_dane(od, do)\n",
        "        key = f'df_{year}_{month}'\n",
        "        dataframes_2023[key] = df\n",
        "        time.sleep(delay)"
      ],
      "metadata": {
        "id": "xCW0LG5WjWwE"
      },
      "execution_count": 81,
      "outputs": []
    },
    {
      "cell_type": "code",
      "source": [
        "dataframes.keys()"
      ],
      "metadata": {
        "colab": {
          "base_uri": "https://localhost:8080/"
        },
        "id": "9YSxEBUk1LsU",
        "outputId": "5d2be68a-8b0a-4ba4-f26a-cb6c6b98a24a"
      },
      "execution_count": 15,
      "outputs": [
        {
          "output_type": "execute_result",
          "data": {
            "text/plain": [
              "dict_keys(['df_2018_1', 'df_2018_2', 'df_2018_3', 'df_2018_4', 'df_2018_5', 'df_2018_6', 'df_2018_7', 'df_2018_8', 'df_2018_9', 'df_2018_10', 'df_2018_11', 'df_2018_12'])"
            ]
          },
          "metadata": {},
          "execution_count": 15
        }
      ]
    },
    {
      "cell_type": "code",
      "source": [
        "dataframes_2019 = {}"
      ],
      "metadata": {
        "id": "75RlA-No1JeU"
      },
      "execution_count": 17,
      "outputs": []
    },
    {
      "cell_type": "code",
      "source": [
        "dataframes_2019.keys()"
      ],
      "metadata": {
        "colab": {
          "base_uri": "https://localhost:8080/"
        },
        "id": "hId1Kmhh152O",
        "outputId": "e7489bce-61ef-4b0b-c56b-763035e05483"
      },
      "execution_count": 25,
      "outputs": [
        {
          "output_type": "execute_result",
          "data": {
            "text/plain": [
              "dict_keys(['df_2019_1', 'df_2019_2', 'df_2019_3', 'df_2019_4', 'df_2019_5', 'df_2019_6', 'df_2019_7', 'df_2019_8', 'df_2019_9', 'df_2019_10', 'df_2019_11', 'df_2019_12'])"
            ]
          },
          "metadata": {},
          "execution_count": 25
        }
      ]
    },
    {
      "cell_type": "code",
      "source": [
        "dataframes_2020 = {}"
      ],
      "metadata": {
        "id": "lTAre5qR2-bV"
      },
      "execution_count": 26,
      "outputs": []
    },
    {
      "cell_type": "code",
      "source": [
        "dataframes_2020.keys()"
      ],
      "metadata": {
        "colab": {
          "base_uri": "https://localhost:8080/"
        },
        "id": "CUOZoTWR4q1M",
        "outputId": "f913874f-18e3-41af-90a2-1bf28c4692ba"
      },
      "execution_count": 29,
      "outputs": [
        {
          "output_type": "execute_result",
          "data": {
            "text/plain": [
              "dict_keys(['df_2020_1', 'df_2020_2', 'df_2020_3', 'df_2020_4', 'df_2020_5', 'df_2020_6', 'df_2020_7', 'df_2020_8', 'df_2020_9', 'df_2020_10', 'df_2020_11', 'df_2020_12'])"
            ]
          },
          "metadata": {},
          "execution_count": 29
        }
      ]
    },
    {
      "cell_type": "code",
      "source": [
        "dataframes_2021 = {}"
      ],
      "metadata": {
        "id": "tnGA3JeS4uMg"
      },
      "execution_count": 31,
      "outputs": []
    },
    {
      "cell_type": "code",
      "source": [
        "dataframes_2021.keys()"
      ],
      "metadata": {
        "colab": {
          "base_uri": "https://localhost:8080/"
        },
        "id": "s_S9vzOH6dqz",
        "outputId": "450bdc28-bdbb-4c04-ff92-56aa52f2e4aa"
      },
      "execution_count": 70,
      "outputs": [
        {
          "output_type": "execute_result",
          "data": {
            "text/plain": [
              "dict_keys(['df_2021_1', 'df_2021_2', 'df_2021_3', 'df_2021_4', 'df_2021_5', 'df_2021_6', 'df_2021_7', 'df_2021_8', 'df_2021_9', 'df_2021_10', 'df_2021_11', 'df_2021_12'])"
            ]
          },
          "metadata": {},
          "execution_count": 70
        }
      ]
    },
    {
      "cell_type": "code",
      "source": [
        "dataframes_2022 = {}"
      ],
      "metadata": {
        "id": "yxqt21S6DSad"
      },
      "execution_count": 72,
      "outputs": []
    },
    {
      "cell_type": "code",
      "source": [
        "dataframes_2022.keys()"
      ],
      "metadata": {
        "colab": {
          "base_uri": "https://localhost:8080/"
        },
        "id": "xL9NBPYkFcle",
        "outputId": "c12e5cee-4b4f-4ed4-c469-8d5ae6c55449"
      },
      "execution_count": 74,
      "outputs": [
        {
          "output_type": "execute_result",
          "data": {
            "text/plain": [
              "dict_keys(['df_2022_1', 'df_2022_2', 'df_2022_3', 'df_2022_4', 'df_2022_5', 'df_2022_6', 'df_2022_7', 'df_2022_8', 'df_2022_9', 'df_2022_10', 'df_2022_11', 'df_2022_12'])"
            ]
          },
          "metadata": {},
          "execution_count": 74
        }
      ]
    },
    {
      "cell_type": "code",
      "source": [
        "dataframes_2023 = {}"
      ],
      "metadata": {
        "id": "X9emcqVHFeyY"
      },
      "execution_count": 75,
      "outputs": []
    },
    {
      "cell_type": "code",
      "source": [
        "dataframes_2023.keys()"
      ],
      "metadata": {
        "colab": {
          "base_uri": "https://localhost:8080/"
        },
        "id": "xaXKoQjzF9uU",
        "outputId": "b018e5c6-8f91-4aac-9d9f-1120c7382136"
      },
      "execution_count": 82,
      "outputs": [
        {
          "output_type": "execute_result",
          "data": {
            "text/plain": [
              "dict_keys(['df_2023_1', 'df_2023_2', 'df_2023_3', 'df_2023_4', 'df_2023_5', 'df_2023_6', 'df_2023_7'])"
            ]
          },
          "metadata": {},
          "execution_count": 82
        }
      ]
    },
    {
      "cell_type": "code",
      "source": [
        "list_of_dicts = [dataframes_2019, dataframes_2020, dataframes_2021, dataframes_2022, dataframes_2023]\n",
        "\n",
        "for dict in list_of_dicts:\n",
        "  dataframes.update(dict)"
      ],
      "metadata": {
        "id": "My3eJPoYGblX"
      },
      "execution_count": 84,
      "outputs": []
    },
    {
      "cell_type": "code",
      "source": [
        "dataframes.keys()"
      ],
      "metadata": {
        "colab": {
          "base_uri": "https://localhost:8080/"
        },
        "id": "KPuIVVRbHWod",
        "outputId": "3c94205b-110e-4697-b68e-3c9273234a28"
      },
      "execution_count": 86,
      "outputs": [
        {
          "output_type": "execute_result",
          "data": {
            "text/plain": [
              "dict_keys(['df_2018_1', 'df_2018_2', 'df_2018_3', 'df_2018_4', 'df_2018_5', 'df_2018_6', 'df_2018_7', 'df_2018_8', 'df_2018_9', 'df_2018_10', 'df_2018_11', 'df_2018_12', 'df_2019_1', 'df_2019_2', 'df_2019_3', 'df_2019_4', 'df_2019_5', 'df_2019_6', 'df_2019_7', 'df_2019_8', 'df_2019_9', 'df_2019_10', 'df_2019_11', 'df_2019_12', 'df_2020_1', 'df_2020_2', 'df_2020_3', 'df_2020_4', 'df_2020_5', 'df_2020_6', 'df_2020_7', 'df_2020_8', 'df_2020_9', 'df_2020_10', 'df_2020_11', 'df_2020_12', 'df_2021_1', 'df_2021_2', 'df_2021_3', 'df_2021_4', 'df_2021_5', 'df_2021_6', 'df_2021_7', 'df_2021_8', 'df_2021_9', 'df_2021_10', 'df_2021_11', 'df_2021_12', 'df_2022_1', 'df_2022_2', 'df_2022_3', 'df_2022_4', 'df_2022_5', 'df_2022_6', 'df_2022_7', 'df_2022_8', 'df_2022_9', 'df_2022_10', 'df_2022_11', 'df_2022_12', 'df_2023_1', 'df_2023_2', 'df_2023_3', 'df_2023_4', 'df_2023_5', 'df_2023_6', 'df_2023_7'])"
            ]
          },
          "metadata": {},
          "execution_count": 86
        }
      ]
    },
    {
      "cell_type": "code",
      "source": [
        "dataframes_list = list(dataframes.values())\n",
        "\n",
        "big_dataframe = pd.concat(dataframes_list)"
      ],
      "metadata": {
        "id": "C8RcyrVjIQQ8"
      },
      "execution_count": 90,
      "outputs": []
    },
    {
      "cell_type": "code",
      "source": [
        "big_dataframe"
      ],
      "metadata": {
        "colab": {
          "base_uri": "https://localhost:8080/",
          "height": 455
        },
        "id": "Cw_7HUUvITMF",
        "outputId": "5837404d-ffae-4bad-e274-e61d214cb7d4"
      },
      "execution_count": 91,
      "outputs": [
        {
          "output_type": "execute_result",
          "data": {
            "text/plain": [
              "                   RCE\n",
              "Data                  \n",
              "2018-01-01  106.201250\n",
              "2018-01-02  170.616250\n",
              "2018-01-03  146.506250\n",
              "2018-01-04  149.892083\n",
              "2018-01-05  150.510833\n",
              "...                ...\n",
              "2023-07-27  570.165000\n",
              "2023-07-28  580.625417\n",
              "2023-07-29  495.964583\n",
              "2023-07-30  319.794167\n",
              "2023-07-31  558.974167\n",
              "\n",
              "[2038 rows x 1 columns]"
            ],
            "text/html": [
              "\n",
              "  <div id=\"df-1cb0532e-3b6f-4739-aa70-e1d4f8e0b74b\" class=\"colab-df-container\">\n",
              "    <div>\n",
              "<style scoped>\n",
              "    .dataframe tbody tr th:only-of-type {\n",
              "        vertical-align: middle;\n",
              "    }\n",
              "\n",
              "    .dataframe tbody tr th {\n",
              "        vertical-align: top;\n",
              "    }\n",
              "\n",
              "    .dataframe thead th {\n",
              "        text-align: right;\n",
              "    }\n",
              "</style>\n",
              "<table border=\"1\" class=\"dataframe\">\n",
              "  <thead>\n",
              "    <tr style=\"text-align: right;\">\n",
              "      <th></th>\n",
              "      <th>RCE</th>\n",
              "    </tr>\n",
              "    <tr>\n",
              "      <th>Data</th>\n",
              "      <th></th>\n",
              "    </tr>\n",
              "  </thead>\n",
              "  <tbody>\n",
              "    <tr>\n",
              "      <th>2018-01-01</th>\n",
              "      <td>106.201250</td>\n",
              "    </tr>\n",
              "    <tr>\n",
              "      <th>2018-01-02</th>\n",
              "      <td>170.616250</td>\n",
              "    </tr>\n",
              "    <tr>\n",
              "      <th>2018-01-03</th>\n",
              "      <td>146.506250</td>\n",
              "    </tr>\n",
              "    <tr>\n",
              "      <th>2018-01-04</th>\n",
              "      <td>149.892083</td>\n",
              "    </tr>\n",
              "    <tr>\n",
              "      <th>2018-01-05</th>\n",
              "      <td>150.510833</td>\n",
              "    </tr>\n",
              "    <tr>\n",
              "      <th>...</th>\n",
              "      <td>...</td>\n",
              "    </tr>\n",
              "    <tr>\n",
              "      <th>2023-07-27</th>\n",
              "      <td>570.165000</td>\n",
              "    </tr>\n",
              "    <tr>\n",
              "      <th>2023-07-28</th>\n",
              "      <td>580.625417</td>\n",
              "    </tr>\n",
              "    <tr>\n",
              "      <th>2023-07-29</th>\n",
              "      <td>495.964583</td>\n",
              "    </tr>\n",
              "    <tr>\n",
              "      <th>2023-07-30</th>\n",
              "      <td>319.794167</td>\n",
              "    </tr>\n",
              "    <tr>\n",
              "      <th>2023-07-31</th>\n",
              "      <td>558.974167</td>\n",
              "    </tr>\n",
              "  </tbody>\n",
              "</table>\n",
              "<p>2038 rows × 1 columns</p>\n",
              "</div>\n",
              "    <div class=\"colab-df-buttons\">\n",
              "\n",
              "  <div class=\"colab-df-container\">\n",
              "    <button class=\"colab-df-convert\" onclick=\"convertToInteractive('df-1cb0532e-3b6f-4739-aa70-e1d4f8e0b74b')\"\n",
              "            title=\"Convert this dataframe to an interactive table.\"\n",
              "            style=\"display:none;\">\n",
              "\n",
              "  <svg xmlns=\"http://www.w3.org/2000/svg\" height=\"24px\" viewBox=\"0 -960 960 960\">\n",
              "    <path d=\"M120-120v-720h720v720H120Zm60-500h600v-160H180v160Zm220 220h160v-160H400v160Zm0 220h160v-160H400v160ZM180-400h160v-160H180v160Zm440 0h160v-160H620v160ZM180-180h160v-160H180v160Zm440 0h160v-160H620v160Z\"/>\n",
              "  </svg>\n",
              "    </button>\n",
              "\n",
              "  <style>\n",
              "    .colab-df-container {\n",
              "      display:flex;\n",
              "      gap: 12px;\n",
              "    }\n",
              "\n",
              "    .colab-df-convert {\n",
              "      background-color: #E8F0FE;\n",
              "      border: none;\n",
              "      border-radius: 50%;\n",
              "      cursor: pointer;\n",
              "      display: none;\n",
              "      fill: #1967D2;\n",
              "      height: 32px;\n",
              "      padding: 0 0 0 0;\n",
              "      width: 32px;\n",
              "    }\n",
              "\n",
              "    .colab-df-convert:hover {\n",
              "      background-color: #E2EBFA;\n",
              "      box-shadow: 0px 1px 2px rgba(60, 64, 67, 0.3), 0px 1px 3px 1px rgba(60, 64, 67, 0.15);\n",
              "      fill: #174EA6;\n",
              "    }\n",
              "\n",
              "    .colab-df-buttons div {\n",
              "      margin-bottom: 4px;\n",
              "    }\n",
              "\n",
              "    [theme=dark] .colab-df-convert {\n",
              "      background-color: #3B4455;\n",
              "      fill: #D2E3FC;\n",
              "    }\n",
              "\n",
              "    [theme=dark] .colab-df-convert:hover {\n",
              "      background-color: #434B5C;\n",
              "      box-shadow: 0px 1px 3px 1px rgba(0, 0, 0, 0.15);\n",
              "      filter: drop-shadow(0px 1px 2px rgba(0, 0, 0, 0.3));\n",
              "      fill: #FFFFFF;\n",
              "    }\n",
              "  </style>\n",
              "\n",
              "    <script>\n",
              "      const buttonEl =\n",
              "        document.querySelector('#df-1cb0532e-3b6f-4739-aa70-e1d4f8e0b74b button.colab-df-convert');\n",
              "      buttonEl.style.display =\n",
              "        google.colab.kernel.accessAllowed ? 'block' : 'none';\n",
              "\n",
              "      async function convertToInteractive(key) {\n",
              "        const element = document.querySelector('#df-1cb0532e-3b6f-4739-aa70-e1d4f8e0b74b');\n",
              "        const dataTable =\n",
              "          await google.colab.kernel.invokeFunction('convertToInteractive',\n",
              "                                                    [key], {});\n",
              "        if (!dataTable) return;\n",
              "\n",
              "        const docLinkHtml = 'Like what you see? Visit the ' +\n",
              "          '<a target=\"_blank\" href=https://colab.research.google.com/notebooks/data_table.ipynb>data table notebook</a>'\n",
              "          + ' to learn more about interactive tables.';\n",
              "        element.innerHTML = '';\n",
              "        dataTable['output_type'] = 'display_data';\n",
              "        await google.colab.output.renderOutput(dataTable, element);\n",
              "        const docLink = document.createElement('div');\n",
              "        docLink.innerHTML = docLinkHtml;\n",
              "        element.appendChild(docLink);\n",
              "      }\n",
              "    </script>\n",
              "  </div>\n",
              "\n",
              "\n",
              "<div id=\"df-58013096-8c0e-40e8-9fce-2ae408e6420d\">\n",
              "  <button class=\"colab-df-quickchart\" onclick=\"quickchart('df-58013096-8c0e-40e8-9fce-2ae408e6420d')\"\n",
              "            title=\"Suggest charts.\"\n",
              "            style=\"display:none;\">\n",
              "\n",
              "<svg xmlns=\"http://www.w3.org/2000/svg\" height=\"24px\"viewBox=\"0 0 24 24\"\n",
              "     width=\"24px\">\n",
              "    <g>\n",
              "        <path d=\"M19 3H5c-1.1 0-2 .9-2 2v14c0 1.1.9 2 2 2h14c1.1 0 2-.9 2-2V5c0-1.1-.9-2-2-2zM9 17H7v-7h2v7zm4 0h-2V7h2v10zm4 0h-2v-4h2v4z\"/>\n",
              "    </g>\n",
              "</svg>\n",
              "  </button>\n",
              "\n",
              "<style>\n",
              "  .colab-df-quickchart {\n",
              "    background-color: #E8F0FE;\n",
              "    border: none;\n",
              "    border-radius: 50%;\n",
              "    cursor: pointer;\n",
              "    display: none;\n",
              "    fill: #1967D2;\n",
              "    height: 32px;\n",
              "    padding: 0 0 0 0;\n",
              "    width: 32px;\n",
              "  }\n",
              "\n",
              "  .colab-df-quickchart:hover {\n",
              "    background-color: #E2EBFA;\n",
              "    box-shadow: 0px 1px 2px rgba(60, 64, 67, 0.3), 0px 1px 3px 1px rgba(60, 64, 67, 0.15);\n",
              "    fill: #174EA6;\n",
              "  }\n",
              "\n",
              "  [theme=dark] .colab-df-quickchart {\n",
              "    background-color: #3B4455;\n",
              "    fill: #D2E3FC;\n",
              "  }\n",
              "\n",
              "  [theme=dark] .colab-df-quickchart:hover {\n",
              "    background-color: #434B5C;\n",
              "    box-shadow: 0px 1px 3px 1px rgba(0, 0, 0, 0.15);\n",
              "    filter: drop-shadow(0px 1px 2px rgba(0, 0, 0, 0.3));\n",
              "    fill: #FFFFFF;\n",
              "  }\n",
              "</style>\n",
              "\n",
              "  <script>\n",
              "    async function quickchart(key) {\n",
              "      const charts = await google.colab.kernel.invokeFunction(\n",
              "          'suggestCharts', [key], {});\n",
              "    }\n",
              "    (() => {\n",
              "      let quickchartButtonEl =\n",
              "        document.querySelector('#df-58013096-8c0e-40e8-9fce-2ae408e6420d button');\n",
              "      quickchartButtonEl.style.display =\n",
              "        google.colab.kernel.accessAllowed ? 'block' : 'none';\n",
              "    })();\n",
              "  </script>\n",
              "</div>\n",
              "    </div>\n",
              "  </div>\n"
            ]
          },
          "metadata": {},
          "execution_count": 91
        }
      ]
    },
    {
      "cell_type": "code",
      "source": [
        "big_dataframe.to_csv('energy_prices.csv')"
      ],
      "metadata": {
        "id": "JkZkq6x-I6yr"
      },
      "execution_count": 92,
      "outputs": []
    }
  ]
}